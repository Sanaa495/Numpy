{
  "nbformat": 4,
  "nbformat_minor": 0,
  "metadata": {
    "colab": {
      "name": "Sanaa Yousuf - Linspace.ipynb",
      "provenance": []
    },
    "kernelspec": {
      "name": "python3",
      "display_name": "Python 3"
    }
  },
  "cells": [
    {
      "cell_type": "markdown",
      "metadata": {
        "id": "xMW8QLVGdLx0",
        "colab_type": "text"
      },
      "source": [
        ""
      ]
    },
    {
      "cell_type": "code",
      "metadata": {
        "id": "oGHrY9-BdMdq",
        "colab_type": "code",
        "colab": {}
      },
      "source": [
        ""
      ],
      "execution_count": 0,
      "outputs": []
    },
    {
      "cell_type": "code",
      "metadata": {
        "id": "_2APImG_QU4y",
        "colab_type": "code",
        "colab": {}
      },
      "source": [
        "#write a function in python that can replicate the working of the Numpy linspace function"
      ],
      "execution_count": 0,
      "outputs": []
    },
    {
      "cell_type": "code",
      "metadata": {
        "id": "She5wsTUd8hM",
        "colab_type": "code",
        "colab": {}
      },
      "source": [
        "def emul():\n",
        "    a=float(input(\"Enter lower limit: \"))\n",
        "    b=float(input(\"Enter upper limit: \"))\n",
        "    n=int(input(\"Enter number of values: \"))\n",
        "    count=a\n",
        "    c=(b-a)/(n-1)\n",
        "    while count<=b:\n",
        "            print('%0.8f'%count)\n",
        "            count=count+c"
      ],
      "execution_count": 0,
      "outputs": []
    },
    {
      "cell_type": "code",
      "metadata": {
        "id": "beP5OntaupIq",
        "colab_type": "code",
        "outputId": "b5127e6e-4394-4fa4-9649-945522f0f1c8",
        "colab": {
          "base_uri": "https://localhost:8080/",
          "height": 73
        }
      },
      "source": [
        "emul()"
      ],
      "execution_count": 0,
      "outputs": [
        {
          "output_type": "stream",
          "text": [
            "Enter lower limit: 10\n"
          ],
          "name": "stdout"
        }
      ]
    },
    {
      "cell_type": "code",
      "metadata": {
        "id": "XM5AXJdK-aa7",
        "colab_type": "code",
        "colab": {}
      },
      "source": [
        ""
      ],
      "execution_count": 0,
      "outputs": []
    }
  ]
}